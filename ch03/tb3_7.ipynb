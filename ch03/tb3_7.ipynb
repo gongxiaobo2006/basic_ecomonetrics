{
 "cells": [
  {
   "cell_type": "markdown",
   "metadata": {},
   "source": [
    "# 对表3-7的内容进行分析"
   ]
  },
  {
   "cell_type": "code",
   "execution_count": 1,
   "metadata": {},
   "outputs": [
    {
     "name": "stdout",
     "output_type": "stream",
     "text": [
      "Populating the interactive namespace from numpy and matplotlib\n"
     ]
    }
   ],
   "source": [
    "%pylab inline\n",
    "import pandas as pd\n",
    "import numpy as np\n",
    "import matplotlib.pyplot as plt\n",
    "from pandas import Series, DataFrame"
   ]
  },
  {
   "cell_type": "code",
   "execution_count": 2,
   "metadata": {
    "collapsed": true
   },
   "outputs": [],
   "source": [
    "df = pd.read_csv(\"tb3_7.csv\")"
   ]
  },
  {
   "cell_type": "code",
   "execution_count": 3,
   "metadata": {},
   "outputs": [
    {
     "data": {
      "text/html": [
       "<div>\n",
       "<style>\n",
       "    .dataframe thead tr:only-child th {\n",
       "        text-align: right;\n",
       "    }\n",
       "\n",
       "    .dataframe thead th {\n",
       "        text-align: left;\n",
       "    }\n",
       "\n",
       "    .dataframe tbody tr th {\n",
       "        vertical-align: top;\n",
       "    }\n",
       "</style>\n",
       "<table border=\"1\" class=\"dataframe\">\n",
       "  <thead>\n",
       "    <tr style=\"text-align: right;\">\n",
       "      <th></th>\n",
       "      <th>Year</th>\n",
       "      <th>GP</th>\n",
       "      <th>NYSE</th>\n",
       "      <th>CPI</th>\n",
       "    </tr>\n",
       "  </thead>\n",
       "  <tbody>\n",
       "    <tr>\n",
       "      <th>0</th>\n",
       "      <td>1974</td>\n",
       "      <td>159.26</td>\n",
       "      <td>463.54</td>\n",
       "      <td>49.3</td>\n",
       "    </tr>\n",
       "    <tr>\n",
       "      <th>1</th>\n",
       "      <td>1975</td>\n",
       "      <td>161.02</td>\n",
       "      <td>483.55</td>\n",
       "      <td>53.8</td>\n",
       "    </tr>\n",
       "    <tr>\n",
       "      <th>2</th>\n",
       "      <td>1976</td>\n",
       "      <td>124.84</td>\n",
       "      <td>575.85</td>\n",
       "      <td>56.9</td>\n",
       "    </tr>\n",
       "    <tr>\n",
       "      <th>3</th>\n",
       "      <td>1977</td>\n",
       "      <td>147.71</td>\n",
       "      <td>567.66</td>\n",
       "      <td>60.6</td>\n",
       "    </tr>\n",
       "    <tr>\n",
       "      <th>4</th>\n",
       "      <td>1978</td>\n",
       "      <td>193.22</td>\n",
       "      <td>567.81</td>\n",
       "      <td>65.2</td>\n",
       "    </tr>\n",
       "  </tbody>\n",
       "</table>\n",
       "</div>"
      ],
      "text/plain": [
       "   Year      GP    NYSE   CPI\n",
       "0  1974  159.26  463.54  49.3\n",
       "1  1975  161.02  483.55  53.8\n",
       "2  1976  124.84  575.85  56.9\n",
       "3  1977  147.71  567.66  60.6\n",
       "4  1978  193.22  567.81  65.2"
      ]
     },
     "execution_count": 3,
     "metadata": {},
     "output_type": "execute_result"
    }
   ],
   "source": [
    "df.head()"
   ]
  },
  {
   "cell_type": "markdown",
   "metadata": {},
   "source": [
    "这个表给出了1974-2006各年中黄金价格、NYSE指数和CPI的值，可表示如下图所示。可见CPI随年份增加而平稳增加，而Gold Price和NYSE有一定的波动，特别是Gold Price的波动更明显，因此两者与CPI之间的线性回归关系并不会很明显。下面我们就验证一下。"
   ]
  },
  {
   "cell_type": "code",
   "execution_count": 5,
   "metadata": {},
   "outputs": [
    {
     "data": {
      "image/png": "[encoded data removed]",
      "text/plain": [
       "<matplotlib.figure.Figure at 0xae61128>"
      ]
     },
     "metadata": {},
     "output_type": "display_data"
    }
   ],
   "source": [
    "fig = plt.figure()\n",
    "ax = fig.add_subplot(3,1,1)\n",
    "plt.plot(df['Year'], df['GP'], 'ro-')\n",
    "ax.set_title(\"Gold Price\")\n",
    "\n",
    "ax = fig.add_subplot(3,1,2)\n",
    "plt.plot(df['Year'], df['NYSE'], 'go-')\n",
    "ax.set_title(\"NYSE\")\n",
    "\n",
    "ax = fig.add_subplot(3,1,3)\n",
    "plt.plot(df['Year'], df['CPI'], 'bo-')\n",
    "ax.set_title(\"CPI\")\n",
    "\n",
    "plt.draw()\n",
    "plt.autoscale()\n",
    "plt.tight_layout()"
   ]
  },
  {
   "cell_type": "code",
   "execution_count": 7,
   "metadata": {},
   "outputs": [
    {
     "data": {
      "image/png": "[encoded data removed]",
      "text/plain": [
       "<matplotlib.figure.Figure at 0xd030a20>"
      ]
     },
     "metadata": {},
     "output_type": "display_data"
    }
   ],
   "source": [
    "fig = plt.figure()\n",
    "ax = fig.add_subplot(2,1,1)\n",
    "plt.plot(df['CPI'], df['GP'], 'ro-')\n",
    "ax.set_title(\"Gold Prices vs CPI\")\n",
    "\n",
    "ax = fig.add_subplot(2,1,2)\n",
    "plt.plot(df['CPI'], df['NYSE'], 'go-')\n",
    "ax.set_title(\"NYSE vs CPI\")\n",
    "\n",
    "plt.draw()\n",
    "plt.autoscale()\n",
    "plt.tight_layout()"
   ]
  },
  {
   "cell_type": "code",
   "execution_count": 6,
   "metadata": {},
   "outputs": [
    {
     "name": "stderr",
     "output_type": "stream",
     "text": [
      "C:\\Users\\bangu_000\\Anaconda2\\lib\\site-packages\\statsmodels\\compat\\pandas.py:56: FutureWarning: The pandas.core.datetools module is deprecated and will be removed in a future version. Please use the pandas.tseries module instead.\n",
      "  from pandas.core import datetools\n"
     ]
    }
   ],
   "source": [
    "import statsmodels.api as sm\n",
    "import statsmodels.formula.api as smf"
   ]
  },
  {
   "cell_type": "code",
   "execution_count": 8,
   "metadata": {
    "collapsed": true
   },
   "outputs": [],
   "source": [
    "modGP = sm.OLS(df['GP'], df['CPI'])\n",
    "resGP = modGP.fit()"
   ]
  },
  {
   "cell_type": "code",
   "execution_count": 9,
   "metadata": {},
   "outputs": [
    {
     "name": "stdout",
     "output_type": "stream",
     "text": [
      "                            OLS Regression Results                            \n",
      "==============================================================================\n",
      "Dep. Variable:                     GP   R-squared:                       0.887\n",
      "Model:                            OLS   Adj. R-squared:                  0.884\n",
      "Method:                 Least Squares   F-statistic:                     251.3\n",
      "Date:                Sun, 18 Jun 2017   Prob (F-statistic):           1.04e-16\n",
      "Time:                        20:57:07   Log-Likelihood:                -205.50\n",
      "No. Observations:                  33   AIC:                             413.0\n",
      "Df Residuals:                      32   BIC:                             414.5\n",
      "Df Model:                           1                                         \n",
      "Covariance Type:            nonrobust                                         \n",
      "==============================================================================\n",
      "                 coef    std err          t      P>|t|      [0.025      0.975]\n",
      "------------------------------------------------------------------------------\n",
      "CPI            2.5453      0.161     15.854      0.000       2.218       2.872\n",
      "==============================================================================\n",
      "Omnibus:                        6.477   Durbin-Watson:                   0.380\n",
      "Prob(Omnibus):                  0.039   Jarque-Bera (JB):                4.959\n",
      "Skew:                           0.731   Prob(JB):                       0.0838\n",
      "Kurtosis:                       4.211   Cond. No.                         1.00\n",
      "==============================================================================\n",
      "\n",
      "Warnings:\n",
      "[1] Standard Errors assume that the covariance matrix of the errors is correctly specified.\n"
     ]
    }
   ],
   "source": [
    "print resGP.summary()"
   ]
  },
  {
   "cell_type": "code",
   "execution_count": 10,
   "metadata": {
    "collapsed": true
   },
   "outputs": [],
   "source": [
    "modNYSE = sm.OLS(df['NYSE'], df['CPI'])\n",
    "resNYSE = modNYSE.fit()"
   ]
  },
  {
   "cell_type": "code",
   "execution_count": 11,
   "metadata": {},
   "outputs": [
    {
     "name": "stdout",
     "output_type": "stream",
     "text": [
      "                            OLS Regression Results                            \n",
      "==============================================================================\n",
      "Dep. Variable:                   NYSE   R-squared:                       0.847\n",
      "Model:                            OLS   Adj. R-squared:                  0.843\n",
      "Method:                 Least Squares   F-statistic:                     177.7\n",
      "Date:                Sun, 18 Jun 2017   Prob (F-statistic):           1.31e-14\n",
      "Time:                        20:58:39   Log-Likelihood:                -288.14\n",
      "No. Observations:                  33   AIC:                             578.3\n",
      "Df Residuals:                      32   BIC:                             579.8\n",
      "Df Model:                           1                                         \n",
      "Covariance Type:            nonrobust                                         \n",
      "==============================================================================\n",
      "                 coef    std err          t      P>|t|      [0.025      0.975]\n",
      "------------------------------------------------------------------------------\n",
      "CPI           26.1844      1.964     13.330      0.000      22.183      30.186\n",
      "==============================================================================\n",
      "Omnibus:                        6.068   Durbin-Watson:                   0.085\n",
      "Prob(Omnibus):                  0.048   Jarque-Bera (JB):                5.855\n",
      "Skew:                           1.000   Prob(JB):                       0.0535\n",
      "Kurtosis:                       2.490   Cond. No.                         1.00\n",
      "==============================================================================\n",
      "\n",
      "Warnings:\n",
      "[1] Standard Errors assume that the covariance matrix of the errors is correctly specified.\n"
     ]
    }
   ],
   "source": [
    "print resNYSE.summary()"
   ]
  }
 ],
 "metadata": {
  "kernelspec": {
   "display_name": "Python 2",
   "language": "python",
   "name": "python2"
  },
  "language_info": {
   "codemirror_mode": {
    "name": "ipython",
    "version": 2
   },
   "file_extension": ".py",
   "mimetype": "text/x-python",
   "name": "python",
   "nbconvert_exporter": "python",
   "pygments_lexer": "ipython2",
   "version": "2.7.13"
  }
 },
 "nbformat": 4,
 "nbformat_minor": 2
}
