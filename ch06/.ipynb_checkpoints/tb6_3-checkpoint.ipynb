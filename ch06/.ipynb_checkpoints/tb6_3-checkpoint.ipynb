{
 "cells": [
  {
   "cell_type": "markdown",
   "metadata": {},
   "source": [
    "# 对表6-3的内容进行分析\n",
    "表6-3给出了耐用品支出与个人消费支出之间的关系，均以2000年的十亿美元计，其中：\n",
    "- PCEXP表示个人消费总支出\n",
    "- EXPDUR表示耐用品支出\n",
    "- EXONONDUR表示非耐用品支出\n",
    "- EXPSERVICES表示劳务支出\n",
    "\n",
    "## 下面分析各类支出了与个人消费总支出的关系"
   ]
  },
  {
   "cell_type": "code",
   "execution_count": 1,
   "metadata": {},
   "outputs": [
    {
     "name": "stdout",
     "output_type": "stream",
     "text": [
      "Populating the interactive namespace from numpy and matplotlib\n"
     ]
    }
   ],
   "source": [
    "%pylab inline\n",
    "import pandas as pd\n",
    "import numpy as np\n",
    "import matplotlib.pyplot as plt\n",
    "from pandas import Series, DataFrame"
   ]
  },
  {
   "cell_type": "code",
   "execution_count": 2,
   "metadata": {
    "collapsed": true
   },
   "outputs": [],
   "source": [
    "df = pd.read_csv(\"tb6_3.csv\")"
   ]
  },
  {
   "cell_type": "code",
   "execution_count": 3,
   "metadata": {},
   "outputs": [
    {
     "data": {
      "text/html": [
       "<div>\n",
       "<style>\n",
       "    .dataframe thead tr:only-child th {\n",
       "        text-align: right;\n",
       "    }\n",
       "\n",
       "    .dataframe thead th {\n",
       "        text-align: left;\n",
       "    }\n",
       "\n",
       "    .dataframe tbody tr th {\n",
       "        vertical-align: top;\n",
       "    }\n",
       "</style>\n",
       "<table border=\"1\" class=\"dataframe\">\n",
       "  <thead>\n",
       "    <tr style=\"text-align: right;\">\n",
       "      <th></th>\n",
       "      <th>Unnamed: 0</th>\n",
       "      <th>EXPSERVICES</th>\n",
       "      <th>EXPDUR</th>\n",
       "      <th>EXPNONDUR</th>\n",
       "      <th>PCEXP</th>\n",
       "    </tr>\n",
       "  </thead>\n",
       "  <tbody>\n",
       "    <tr>\n",
       "      <th>0</th>\n",
       "      <td>2003-I</td>\n",
       "      <td>4143.3</td>\n",
       "      <td>971.4</td>\n",
       "      <td>2072.5</td>\n",
       "      <td>7184.9</td>\n",
       "    </tr>\n",
       "    <tr>\n",
       "      <th>1</th>\n",
       "      <td>2003-II</td>\n",
       "      <td>4161.3</td>\n",
       "      <td>1009.8</td>\n",
       "      <td>2084.2</td>\n",
       "      <td>7249.3</td>\n",
       "    </tr>\n",
       "    <tr>\n",
       "      <th>2</th>\n",
       "      <td>2003-III</td>\n",
       "      <td>4190.7</td>\n",
       "      <td>1049.6</td>\n",
       "      <td>2123.0</td>\n",
       "      <td>7352.9</td>\n",
       "    </tr>\n",
       "    <tr>\n",
       "      <th>3</th>\n",
       "      <td>2003-IV</td>\n",
       "      <td>4220.2</td>\n",
       "      <td>1051.4</td>\n",
       "      <td>2132.5</td>\n",
       "      <td>7394.3</td>\n",
       "    </tr>\n",
       "    <tr>\n",
       "      <th>4</th>\n",
       "      <td>2004-I</td>\n",
       "      <td>4268.2</td>\n",
       "      <td>1067.0</td>\n",
       "      <td>2155.3</td>\n",
       "      <td>7479.8</td>\n",
       "    </tr>\n",
       "  </tbody>\n",
       "</table>\n",
       "</div>"
      ],
      "text/plain": [
       "  Unnamed: 0  EXPSERVICES  EXPDUR  EXPNONDUR   PCEXP\n",
       "0    2003-I        4143.3   971.4     2072.5  7184.9\n",
       "1   2003-II        4161.3  1009.8     2084.2  7249.3\n",
       "2  2003-III        4190.7  1049.6     2123.0  7352.9\n",
       "3    2003-IV       4220.2  1051.4     2132.5  7394.3\n",
       "4    2004-I        4268.2  1067.0     2155.3  7479.8"
      ]
     },
     "execution_count": 3,
     "metadata": {},
     "output_type": "execute_result"
    }
   ],
   "source": [
    "df.head()"
   ]
  },
  {
   "cell_type": "code",
   "execution_count": 4,
   "metadata": {},
   "outputs": [
    {
     "data": {
      "text/html": [
       "<div>\n",
       "<style>\n",
       "    .dataframe thead tr:only-child th {\n",
       "        text-align: right;\n",
       "    }\n",
       "\n",
       "    .dataframe thead th {\n",
       "        text-align: left;\n",
       "    }\n",
       "\n",
       "    .dataframe tbody tr th {\n",
       "        vertical-align: top;\n",
       "    }\n",
       "</style>\n",
       "<table border=\"1\" class=\"dataframe\">\n",
       "  <thead>\n",
       "    <tr style=\"text-align: right;\">\n",
       "      <th></th>\n",
       "      <th>EXPSERVICES</th>\n",
       "      <th>EXPDUR</th>\n",
       "      <th>EXPNONDUR</th>\n",
       "      <th>PCEXP</th>\n",
       "    </tr>\n",
       "  </thead>\n",
       "  <tbody>\n",
       "    <tr>\n",
       "      <th>count</th>\n",
       "      <td>15.000000</td>\n",
       "      <td>15.000000</td>\n",
       "      <td>15.000000</td>\n",
       "      <td>15.000000</td>\n",
       "    </tr>\n",
       "    <tr>\n",
       "      <th>mean</th>\n",
       "      <td>4356.933333</td>\n",
       "      <td>1106.386667</td>\n",
       "      <td>2219.333333</td>\n",
       "      <td>7668.300000</td>\n",
       "    </tr>\n",
       "    <tr>\n",
       "      <th>std</th>\n",
       "      <td>137.626579</td>\n",
       "      <td>70.334109</td>\n",
       "      <td>97.536240</td>\n",
       "      <td>297.328544</td>\n",
       "    </tr>\n",
       "    <tr>\n",
       "      <th>min</th>\n",
       "      <td>4143.300000</td>\n",
       "      <td>971.400000</td>\n",
       "      <td>2072.500000</td>\n",
       "      <td>7184.900000</td>\n",
       "    </tr>\n",
       "    <tr>\n",
       "      <th>25%</th>\n",
       "      <td>4244.200000</td>\n",
       "      <td>1059.200000</td>\n",
       "      <td>2143.900000</td>\n",
       "      <td>7437.050000</td>\n",
       "    </tr>\n",
       "    <tr>\n",
       "      <th>50%</th>\n",
       "      <td>4377.400000</td>\n",
       "      <td>1110.300000</td>\n",
       "      <td>2213.100000</td>\n",
       "      <td>7687.100000</td>\n",
       "    </tr>\n",
       "    <tr>\n",
       "      <th>75%</th>\n",
       "      <td>4465.600000</td>\n",
       "      <td>1163.350000</td>\n",
       "      <td>2298.600000</td>\n",
       "      <td>7902.750000</td>\n",
       "    </tr>\n",
       "    <tr>\n",
       "      <th>max</th>\n",
       "      <td>4566.600000</td>\n",
       "      <td>1208.800000</td>\n",
       "      <td>2360.100000</td>\n",
       "      <td>8111.200000</td>\n",
       "    </tr>\n",
       "  </tbody>\n",
       "</table>\n",
       "</div>"
      ],
      "text/plain": [
       "       EXPSERVICES       EXPDUR    EXPNONDUR        PCEXP\n",
       "count    15.000000    15.000000    15.000000    15.000000\n",
       "mean   4356.933333  1106.386667  2219.333333  7668.300000\n",
       "std     137.626579    70.334109    97.536240   297.328544\n",
       "min    4143.300000   971.400000  2072.500000  7184.900000\n",
       "25%    4244.200000  1059.200000  2143.900000  7437.050000\n",
       "50%    4377.400000  1110.300000  2213.100000  7687.100000\n",
       "75%    4465.600000  1163.350000  2298.600000  7902.750000\n",
       "max    4566.600000  1208.800000  2360.100000  8111.200000"
      ]
     },
     "execution_count": 4,
     "metadata": {},
     "output_type": "execute_result"
    }
   ],
   "source": [
    "df.describe()"
   ]
  },
  {
   "cell_type": "markdown",
   "metadata": {},
   "source": [
    "首先，我们分析耐用品支出（EXPDUR）与个人消费总支出（PCEXP）之间的关系。\n",
    "首先，画出散点图："
   ]
  },
  {
   "cell_type": "code",
   "execution_count": 5,
   "metadata": {},
   "outputs": [
    {
     "data": {
      "text/plain": [
       "<matplotlib.collections.PathCollection at 0xa0142e8>"
      ]
     },
     "execution_count": 5,
     "metadata": {},
     "output_type": "execute_result"
    },
    {
     "data": {
      "image/png": "[encoded data removed]",
      "text/plain": [
       "<matplotlib.figure.Figure at 0x9c2bc50>"
      ]
     },
     "metadata": {},
     "output_type": "display_data"
    }
   ],
   "source": [
    "plt.scatter(df['PCEXP'], df['EXPDUR'])"
   ]
  },
  {
   "cell_type": "markdown",
   "metadata": {},
   "source": [
    "这似乎是一个线性关系。再来看看两者取自然对数时的关系："
   ]
  },
  {
   "cell_type": "code",
   "execution_count": 6,
   "metadata": {},
   "outputs": [
    {
     "data": {
      "text/plain": [
       "<matplotlib.collections.PathCollection at 0xa0c3e80>"
      ]
     },
     "execution_count": 6,
     "metadata": {},
     "output_type": "execute_result"
    },
    {
     "data": {
      "image/png": "[encoded data removed]",
      "text/plain": [
       "<matplotlib.figure.Figure at 0xa16e908>"
      ]
     },
     "metadata": {},
     "output_type": "display_data"
    }
   ],
   "source": [
    "plt.scatter(np.log(df['PCEXP']), np.log(df['EXPDUR']))"
   ]
  },
  {
   "cell_type": "markdown",
   "metadata": {},
   "source": [
    "首先还是根据教科书的内容求出取对数时的线性拟合吧："
   ]
  },
  {
   "cell_type": "code",
   "execution_count": 7,
   "metadata": {},
   "outputs": [
    {
     "name": "stderr",
     "output_type": "stream",
     "text": [
      "C:\\Users\\bangu_000\\Anaconda2\\lib\\site-packages\\statsmodels\\compat\\pandas.py:56: FutureWarning: The pandas.core.datetools module is deprecated and will be removed in a future version. Please use the pandas.tseries module instead.\n",
      "  from pandas.core import datetools\n"
     ]
    }
   ],
   "source": [
    "import statsmodels.api as sm\n",
    "import statsmodels.formula.api as smf"
   ]
  },
  {
   "cell_type": "code",
   "execution_count": 8,
   "metadata": {
    "collapsed": true
   },
   "outputs": [],
   "source": [
    "mod = sm.OLS(np.log(df['EXPDUR']), np.log(df['PCEXP']))\n",
    "res = mod.fit()"
   ]
  },
  {
   "cell_type": "code",
   "execution_count": 9,
   "metadata": {},
   "outputs": [
    {
     "name": "stdout",
     "output_type": "stream",
     "text": [
      "                            OLS Regression Results                            \n",
      "==============================================================================\n",
      "Dep. Variable:                 EXPDUR   R-squared:                       1.000\n",
      "Model:                            OLS   Adj. R-squared:                  1.000\n",
      "Method:                 Least Squares   F-statistic:                 6.132e+05\n",
      "Date:                Sun, 25 Jun 2017   Prob (F-statistic):           6.77e-34\n",
      "Time:                        18:46:40   Log-Likelihood:                 29.668\n",
      "No. Observations:                  15   AIC:                            -57.34\n",
      "Df Residuals:                      14   BIC:                            -56.63\n",
      "Df Model:                           1                                         \n",
      "Covariance Type:            nonrobust                                         \n",
      "==============================================================================\n",
      "                 coef    std err          t      P>|t|      [0.025      0.975]\n",
      "------------------------------------------------------------------------------\n",
      "PCEXP          0.7834      0.001    783.095      0.000       0.781       0.786\n",
      "==============================================================================\n",
      "Omnibus:                        1.370   Durbin-Watson:                   0.316\n",
      "Prob(Omnibus):                  0.504   Jarque-Bera (JB):                0.734\n",
      "Skew:                          -0.535   Prob(JB):                        0.693\n",
      "Kurtosis:                       2.825   Cond. No.                         1.00\n",
      "==============================================================================\n",
      "\n",
      "Warnings:\n",
      "[1] Standard Errors assume that the covariance matrix of the errors is correctly specified.\n"
     ]
    },
    {
     "name": "stderr",
     "output_type": "stream",
     "text": [
      "C:\\Users\\bangu_000\\Anaconda2\\lib\\site-packages\\scipy\\stats\\stats.py:1334: UserWarning: kurtosistest only valid for n>=20 ... continuing anyway, n=15\n",
      "  \"anyway, n=%i\" % int(n))\n"
     ]
    }
   ],
   "source": [
    "print res.summary()"
   ]
  },
  {
   "cell_type": "markdown",
   "metadata": {},
   "source": [
    "## 下面分析劳务支出的增长率\n",
    "首先做出劳动支出的散点图，观察其趋势："
   ]
  },
  {
   "cell_type": "code",
   "execution_count": 12,
   "metadata": {},
   "outputs": [
    {
     "data": {
      "text/plain": [
       "<matplotlib.collections.PathCollection at 0xdab1208>"
      ]
     },
     "execution_count": 12,
     "metadata": {},
     "output_type": "execute_result"
    },
    {
     "data": {
      "image/png": "[encoded data removed]",
      "text/plain": [
       "<matplotlib.figure.Figure at 0x9ef3e48>"
      ]
     },
     "metadata": {},
     "output_type": "display_data"
    }
   ],
   "source": [
    "plt.scatter(df.index, df['EXPSERVICES'])"
   ]
  },
  {
   "cell_type": "markdown",
   "metadata": {},
   "source": [
    "对纵轴的值取自然对数再画一次："
   ]
  },
  {
   "cell_type": "code",
   "execution_count": 13,
   "metadata": {},
   "outputs": [
    {
     "data": {
      "text/plain": [
       "<matplotlib.collections.PathCollection at 0xdcb7eb8>"
      ]
     },
     "execution_count": 13,
     "metadata": {},
     "output_type": "execute_result"
    },
    {
     "data": {
      "image/png": "[encoded data removed]",
      "text/plain": [
       "<matplotlib.figure.Figure at 0xda12128>"
      ]
     },
     "metadata": {},
     "output_type": "display_data"
    }
   ],
   "source": [
    "plt.scatter(df.index, np.log(df['EXPSERVICES']))"
   ]
  }
 ],
 "metadata": {
  "kernelspec": {
   "display_name": "Python 2",
   "language": "python",
   "name": "python2"
  },
  "language_info": {
   "codemirror_mode": {
    "name": "ipython",
    "version": 2
   },
   "file_extension": ".py",
   "mimetype": "text/x-python",
   "name": "python",
   "nbconvert_exporter": "python",
   "pygments_lexer": "ipython2",
   "version": "2.7.13"
  }
 },
 "nbformat": 4,
 "nbformat_minor": 2
}
